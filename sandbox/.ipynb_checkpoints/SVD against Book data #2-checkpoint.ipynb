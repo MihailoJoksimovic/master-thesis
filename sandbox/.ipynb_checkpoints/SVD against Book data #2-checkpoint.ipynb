{
 "cells": [
  {
   "cell_type": "code",
   "execution_count": 1,
   "metadata": {},
   "outputs": [],
   "source": [
    "import numpy as np\n",
    "import pandas as pd"
   ]
  },
  {
   "cell_type": "code",
   "execution_count": 18,
   "metadata": {},
   "outputs": [],
   "source": [
    "# This data comes from the Figure 3.7 from book (page 95)\n",
    "\n",
    "data = np.array([\n",
    "    [1, 1, 1, 0, 0, 0],\n",
    "    [1, 1, 1, 0, 0, 0],\n",
    "    [1, 1, 1, 0, 0, 0],\n",
    "    [1, 1, 1, 1, 1, 1],\n",
    "    [-1, -1, -1, 1, 1, 1],\n",
    "    [-1, -1, 1, 1, 1, 1],\n",
    "    [-1, -1, -1, 1, 1, 1]\n",
    "])"
   ]
  },
  {
   "cell_type": "code",
   "execution_count": 21,
   "metadata": {},
   "outputs": [],
   "source": [
    "data = data.astype('float')"
   ]
  },
  {
   "cell_type": "code",
   "execution_count": 22,
   "metadata": {},
   "outputs": [],
   "source": [
    "from scipy.sparse.linalg import svds"
   ]
  },
  {
   "cell_type": "code",
   "execution_count": 25,
   "metadata": {},
   "outputs": [],
   "source": [
    "U, sigma, Vt = svds(data, k = 2)"
   ]
  },
  {
   "cell_type": "code",
   "execution_count": 26,
   "metadata": {},
   "outputs": [
    {
     "data": {
      "text/plain": [
       "array([[-0.24950758, -0.33765778],\n",
       "       [-0.24950758, -0.33765778],\n",
       "       [-0.24950758, -0.33765778],\n",
       "       [-0.70048332, -0.16401663],\n",
       "       [-0.20146817,  0.51129892],\n",
       "       [-0.4913066 ,  0.3289484 ],\n",
       "       [-0.20146817,  0.51129892]])"
      ]
     },
     "execution_count": 26,
     "metadata": {},
     "output_type": "execute_result"
    }
   ],
   "source": [
    "U"
   ]
  },
  {
   "cell_type": "code",
   "execution_count": 29,
   "metadata": {},
   "outputs": [
    {
     "data": {
      "text/plain": [
       "array([[3.25707011, 0.        ],\n",
       "       [0.        , 4.52956534]])"
      ]
     },
     "execution_count": 29,
     "metadata": {},
     "output_type": "execute_result"
    }
   ],
   "source": [
    "sigma = np.diag(sigma)\n",
    "sigma"
   ]
  },
  {
   "cell_type": "code",
   "execution_count": 28,
   "metadata": {},
   "outputs": [
    {
     "data": {
      "text/plain": [
       "array([[-0.17032582, -0.17032582, -0.47201204, -0.48961987, -0.48961987,\n",
       "        -0.48961987],\n",
       "       [-0.55822932, -0.55822932, -0.41298431,  0.26217297,  0.26217297,\n",
       "         0.26217297]])"
      ]
     },
     "execution_count": 28,
     "metadata": {},
     "output_type": "execute_result"
    }
   ],
   "source": [
    "Vt"
   ]
  },
  {
   "cell_type": "code",
   "execution_count": 31,
   "metadata": {},
   "outputs": [],
   "source": [
    "data_recreated = np.dot(np.dot(U, sigma), Vt)"
   ]
  },
  {
   "cell_type": "code",
   "execution_count": 35,
   "metadata": {},
   "outputs": [
    {
     "data": {
      "text/plain": [
       "array([[ 0.99219751,  0.99219751,  1.01522298, -0.00308232, -0.00308232,\n",
       "        -0.00308232],\n",
       "       [ 0.99219751,  0.99219751,  1.01522298, -0.00308232, -0.00308232,\n",
       "        -0.00308232],\n",
       "       [ 0.99219751,  0.99219751,  1.01522298, -0.00308232, -0.00308232,\n",
       "        -0.00308232],\n",
       "       [ 0.8033243 ,  0.8033243 ,  1.38372244,  0.92230455,  0.92230455,\n",
       "         0.92230455],\n",
       "       [-1.18107072, -1.18107072, -0.64672352,  0.92846919,  0.92846919,\n",
       "         0.92846919],\n",
       "       [-0.55919915, -0.55919915,  0.13997929,  1.1741355 ,  1.1741355 ,\n",
       "         1.1741355 ],\n",
       "       [-1.18107072, -1.18107072, -0.64672352,  0.92846919,  0.92846919,\n",
       "         0.92846919]])"
      ]
     },
     "execution_count": 35,
     "metadata": {},
     "output_type": "execute_result"
    }
   ],
   "source": [
    "data_recreated"
   ]
  },
  {
   "cell_type": "code",
   "execution_count": 32,
   "metadata": {},
   "outputs": [],
   "source": [
    "U, sigma, Vt = svds(data_recreated, k = 2)"
   ]
  },
  {
   "cell_type": "code",
   "execution_count": 33,
   "metadata": {},
   "outputs": [],
   "source": [
    "sigma = np.diag(sigma)"
   ]
  },
  {
   "cell_type": "code",
   "execution_count": 34,
   "metadata": {},
   "outputs": [
    {
     "data": {
      "text/plain": [
       "array([[ 0.99219751,  0.99219751,  1.01522298, -0.00308232, -0.00308232,\n",
       "        -0.00308232],\n",
       "       [ 0.99219751,  0.99219751,  1.01522298, -0.00308232, -0.00308232,\n",
       "        -0.00308232],\n",
       "       [ 0.99219751,  0.99219751,  1.01522298, -0.00308232, -0.00308232,\n",
       "        -0.00308232],\n",
       "       [ 0.8033243 ,  0.8033243 ,  1.38372244,  0.92230455,  0.92230455,\n",
       "         0.92230455],\n",
       "       [-1.18107072, -1.18107072, -0.64672352,  0.92846919,  0.92846919,\n",
       "         0.92846919],\n",
       "       [-0.55919915, -0.55919915,  0.13997929,  1.1741355 ,  1.1741355 ,\n",
       "         1.1741355 ],\n",
       "       [-1.18107072, -1.18107072, -0.64672352,  0.92846919,  0.92846919,\n",
       "         0.92846919]])"
      ]
     },
     "execution_count": 34,
     "metadata": {},
     "output_type": "execute_result"
    }
   ],
   "source": [
    "np.dot(np.dot(U, sigma), Vt)"
   ]
  },
  {
   "cell_type": "code",
   "execution_count": null,
   "metadata": {},
   "outputs": [],
   "source": []
  }
 ],
 "metadata": {
  "kernelspec": {
   "display_name": "Python 3",
   "language": "python",
   "name": "python3"
  },
  "language_info": {
   "codemirror_mode": {
    "name": "ipython",
    "version": 3
   },
   "file_extension": ".py",
   "mimetype": "text/x-python",
   "name": "python",
   "nbconvert_exporter": "python",
   "pygments_lexer": "ipython3",
   "version": "3.7.3"
  }
 },
 "nbformat": 4,
 "nbformat_minor": 2
}
