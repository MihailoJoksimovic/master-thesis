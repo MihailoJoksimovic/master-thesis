{
 "cells": [
  {
   "cell_type": "code",
   "execution_count": 1,
   "metadata": {},
   "outputs": [],
   "source": [
    "import numpy as np\n",
    "import pandas as pd\n",
    "import seaborn as sns\n",
    "import matplotlib.pyplot as plt\n",
    "from math import sqrt, ceil\n",
    "import math\n",
    "\n",
    "%matplotlib inline\n",
    "%config Completer.use_jedi = False"
   ]
  },
  {
   "cell_type": "code",
   "execution_count": 2,
   "metadata": {},
   "outputs": [],
   "source": [
    "ratings = pd.read_csv(\"./ratings.csv\", usecols=['userId', 'movieId', 'rating'])"
   ]
  },
  {
   "cell_type": "code",
   "execution_count": 3,
   "metadata": {},
   "outputs": [],
   "source": [
    "movies = pd.read_csv(\"./movies.csv\")"
   ]
  },
  {
   "cell_type": "code",
   "execution_count": 4,
   "metadata": {},
   "outputs": [],
   "source": [
    "# Convert Genre1|Genre2|Genre3 to \"Genre1 Gengre2 Genre3\"\n",
    "movies['genres'] = movies['genres'].str.split('|').str.join(\" \")"
   ]
  },
  {
   "cell_type": "code",
   "execution_count": 5,
   "metadata": {},
   "outputs": [
    {
     "data": {
      "text/html": [
       "<div>\n",
       "<style scoped>\n",
       "    .dataframe tbody tr th:only-of-type {\n",
       "        vertical-align: middle;\n",
       "    }\n",
       "\n",
       "    .dataframe tbody tr th {\n",
       "        vertical-align: top;\n",
       "    }\n",
       "\n",
       "    .dataframe thead th {\n",
       "        text-align: right;\n",
       "    }\n",
       "</style>\n",
       "<table border=\"1\" class=\"dataframe\">\n",
       "  <thead>\n",
       "    <tr style=\"text-align: right;\">\n",
       "      <th></th>\n",
       "      <th>movieId</th>\n",
       "      <th>title</th>\n",
       "      <th>genres</th>\n",
       "    </tr>\n",
       "  </thead>\n",
       "  <tbody>\n",
       "    <tr>\n",
       "      <td>0</td>\n",
       "      <td>1</td>\n",
       "      <td>Toy Story (1995)</td>\n",
       "      <td>Adventure Animation Children Comedy Fantasy</td>\n",
       "    </tr>\n",
       "    <tr>\n",
       "      <td>1</td>\n",
       "      <td>2</td>\n",
       "      <td>Jumanji (1995)</td>\n",
       "      <td>Adventure Children Fantasy</td>\n",
       "    </tr>\n",
       "    <tr>\n",
       "      <td>2</td>\n",
       "      <td>3</td>\n",
       "      <td>Grumpier Old Men (1995)</td>\n",
       "      <td>Comedy Romance</td>\n",
       "    </tr>\n",
       "    <tr>\n",
       "      <td>3</td>\n",
       "      <td>4</td>\n",
       "      <td>Waiting to Exhale (1995)</td>\n",
       "      <td>Comedy Drama Romance</td>\n",
       "    </tr>\n",
       "    <tr>\n",
       "      <td>4</td>\n",
       "      <td>5</td>\n",
       "      <td>Father of the Bride Part II (1995)</td>\n",
       "      <td>Comedy</td>\n",
       "    </tr>\n",
       "    <tr>\n",
       "      <td>...</td>\n",
       "      <td>...</td>\n",
       "      <td>...</td>\n",
       "      <td>...</td>\n",
       "    </tr>\n",
       "    <tr>\n",
       "      <td>9737</td>\n",
       "      <td>193581</td>\n",
       "      <td>Black Butler: Book of the Atlantic (2017)</td>\n",
       "      <td>Action Animation Comedy Fantasy</td>\n",
       "    </tr>\n",
       "    <tr>\n",
       "      <td>9738</td>\n",
       "      <td>193583</td>\n",
       "      <td>No Game No Life: Zero (2017)</td>\n",
       "      <td>Animation Comedy Fantasy</td>\n",
       "    </tr>\n",
       "    <tr>\n",
       "      <td>9739</td>\n",
       "      <td>193585</td>\n",
       "      <td>Flint (2017)</td>\n",
       "      <td>Drama</td>\n",
       "    </tr>\n",
       "    <tr>\n",
       "      <td>9740</td>\n",
       "      <td>193587</td>\n",
       "      <td>Bungo Stray Dogs: Dead Apple (2018)</td>\n",
       "      <td>Action Animation</td>\n",
       "    </tr>\n",
       "    <tr>\n",
       "      <td>9741</td>\n",
       "      <td>193609</td>\n",
       "      <td>Andrew Dice Clay: Dice Rules (1991)</td>\n",
       "      <td>Comedy</td>\n",
       "    </tr>\n",
       "  </tbody>\n",
       "</table>\n",
       "<p>9742 rows × 3 columns</p>\n",
       "</div>"
      ],
      "text/plain": [
       "      movieId                                      title  \\\n",
       "0           1                           Toy Story (1995)   \n",
       "1           2                             Jumanji (1995)   \n",
       "2           3                    Grumpier Old Men (1995)   \n",
       "3           4                   Waiting to Exhale (1995)   \n",
       "4           5         Father of the Bride Part II (1995)   \n",
       "...       ...                                        ...   \n",
       "9737   193581  Black Butler: Book of the Atlantic (2017)   \n",
       "9738   193583               No Game No Life: Zero (2017)   \n",
       "9739   193585                               Flint (2017)   \n",
       "9740   193587        Bungo Stray Dogs: Dead Apple (2018)   \n",
       "9741   193609        Andrew Dice Clay: Dice Rules (1991)   \n",
       "\n",
       "                                           genres  \n",
       "0     Adventure Animation Children Comedy Fantasy  \n",
       "1                      Adventure Children Fantasy  \n",
       "2                                  Comedy Romance  \n",
       "3                            Comedy Drama Romance  \n",
       "4                                          Comedy  \n",
       "...                                           ...  \n",
       "9737              Action Animation Comedy Fantasy  \n",
       "9738                     Animation Comedy Fantasy  \n",
       "9739                                        Drama  \n",
       "9740                             Action Animation  \n",
       "9741                                       Comedy  \n",
       "\n",
       "[9742 rows x 3 columns]"
      ]
     },
     "execution_count": 5,
     "metadata": {},
     "output_type": "execute_result"
    }
   ],
   "source": [
    "movies"
   ]
  },
  {
   "cell_type": "code",
   "execution_count": 6,
   "metadata": {},
   "outputs": [
    {
     "data": {
      "text/html": [
       "<div>\n",
       "<style scoped>\n",
       "    .dataframe tbody tr th:only-of-type {\n",
       "        vertical-align: middle;\n",
       "    }\n",
       "\n",
       "    .dataframe tbody tr th {\n",
       "        vertical-align: top;\n",
       "    }\n",
       "\n",
       "    .dataframe thead th {\n",
       "        text-align: right;\n",
       "    }\n",
       "</style>\n",
       "<table border=\"1\" class=\"dataframe\">\n",
       "  <thead>\n",
       "    <tr style=\"text-align: right;\">\n",
       "      <th></th>\n",
       "      <th>movieId</th>\n",
       "      <th>title</th>\n",
       "      <th>genres</th>\n",
       "    </tr>\n",
       "  </thead>\n",
       "  <tbody>\n",
       "    <tr>\n",
       "      <td>5601</td>\n",
       "      <td>26958</td>\n",
       "      <td>Emma (1996)</td>\n",
       "      <td>Romance</td>\n",
       "    </tr>\n",
       "    <tr>\n",
       "      <td>6932</td>\n",
       "      <td>64997</td>\n",
       "      <td>War of the Worlds (2005)</td>\n",
       "      <td>Action Sci-Fi</td>\n",
       "    </tr>\n",
       "    <tr>\n",
       "      <td>9106</td>\n",
       "      <td>144606</td>\n",
       "      <td>Confessions of a Dangerous Mind (2002)</td>\n",
       "      <td>Comedy Crime Drama Romance Thriller</td>\n",
       "    </tr>\n",
       "    <tr>\n",
       "      <td>9135</td>\n",
       "      <td>147002</td>\n",
       "      <td>Eros (2004)</td>\n",
       "      <td>Drama Romance</td>\n",
       "    </tr>\n",
       "    <tr>\n",
       "      <td>9468</td>\n",
       "      <td>168358</td>\n",
       "      <td>Saturn 3 (1980)</td>\n",
       "      <td>Sci-Fi Thriller</td>\n",
       "    </tr>\n",
       "  </tbody>\n",
       "</table>\n",
       "</div>"
      ],
      "text/plain": [
       "      movieId                                   title  \\\n",
       "5601    26958                             Emma (1996)   \n",
       "6932    64997                War of the Worlds (2005)   \n",
       "9106   144606  Confessions of a Dangerous Mind (2002)   \n",
       "9135   147002                             Eros (2004)   \n",
       "9468   168358                         Saturn 3 (1980)   \n",
       "\n",
       "                                   genres  \n",
       "5601                              Romance  \n",
       "6932                        Action Sci-Fi  \n",
       "9106  Comedy Crime Drama Romance Thriller  \n",
       "9135                        Drama Romance  \n",
       "9468                      Sci-Fi Thriller  "
      ]
     },
     "execution_count": 6,
     "metadata": {},
     "output_type": "execute_result"
    }
   ],
   "source": [
    "# One thing that I noticed is that couple of movies actually have duplicates\n",
    "movies[movies.duplicated('title')]"
   ]
  },
  {
   "cell_type": "code",
   "execution_count": 7,
   "metadata": {},
   "outputs": [
    {
     "name": "stdout",
     "output_type": "stream",
     "text": [
      "Replacing movie id 838 with 26958\n",
      "Replacing movie id 34048 with 64997\n",
      "Replacing movie id 6003 with 144606\n",
      "Replacing movie id 32600 with 147002\n",
      "Replacing movie id 2851 with 168358\n"
     ]
    }
   ],
   "source": [
    "# Let's clean up those and update our ratings matrix\n",
    "for index, row in movies[movies.duplicated('title')].iterrows():\n",
    "    movie_id_to_use = row['movieId'] # This will be the ID that all others will use\n",
    "    \n",
    "    # Find all duplicate IDs\n",
    "    for duplicate_movie_id in list(movies[(movies['title'] == row['title']) & (movies['movieId'] != movie_id_to_use)].movieId):\n",
    "        print(\"Replacing movie id {} with {}\".format(duplicate_movie_id, movie_id_to_use))\n",
    "        \n",
    "        ratings[ratings['movieId'] == duplicate_movie_id] = movie_id_to_use\n",
    "\n",
    "movies.drop_duplicates('title', keep='first', inplace=True)"
   ]
  },
  {
   "cell_type": "code",
   "execution_count": 8,
   "metadata": {
    "scrolled": true
   },
   "outputs": [
    {
     "data": {
      "text/html": [
       "<div>\n",
       "<style scoped>\n",
       "    .dataframe tbody tr th:only-of-type {\n",
       "        vertical-align: middle;\n",
       "    }\n",
       "\n",
       "    .dataframe tbody tr th {\n",
       "        vertical-align: top;\n",
       "    }\n",
       "\n",
       "    .dataframe thead th {\n",
       "        text-align: right;\n",
       "    }\n",
       "</style>\n",
       "<table border=\"1\" class=\"dataframe\">\n",
       "  <thead>\n",
       "    <tr style=\"text-align: right;\">\n",
       "      <th></th>\n",
       "      <th>movieId</th>\n",
       "      <th>title</th>\n",
       "      <th>genres</th>\n",
       "    </tr>\n",
       "  </thead>\n",
       "  <tbody>\n",
       "  </tbody>\n",
       "</table>\n",
       "</div>"
      ],
      "text/plain": [
       "Empty DataFrame\n",
       "Columns: [movieId, title, genres]\n",
       "Index: []"
      ]
     },
     "execution_count": 8,
     "metadata": {},
     "output_type": "execute_result"
    }
   ],
   "source": [
    "movies[movies.duplicated('title')]"
   ]
  },
  {
   "cell_type": "code",
   "execution_count": 9,
   "metadata": {},
   "outputs": [],
   "source": [
    "# Much better ..."
   ]
  },
  {
   "cell_type": "code",
   "execution_count": 10,
   "metadata": {},
   "outputs": [
    {
     "data": {
      "text/plain": [
       "(9737, 177)"
      ]
     },
     "execution_count": 10,
     "metadata": {},
     "output_type": "execute_result"
    }
   ],
   "source": [
    "from sklearn.feature_extraction.text import TfidfVectorizer\n",
    "\n",
    "tf = TfidfVectorizer(analyzer='word',ngram_range=(1, 2),min_df=0, stop_words='english')\n",
    "tfidf_matrix = tf.fit_transform(movies['genres'])\n",
    "tfidf_matrix.shape"
   ]
  },
  {
   "cell_type": "code",
   "execution_count": 20,
   "metadata": {
    "scrolled": true
   },
   "outputs": [
    {
     "data": {
      "text/plain": [
       "{'adventure': 17,\n",
       " 'animation': 33,\n",
       " 'children': 46,\n",
       " 'comedy': 59,\n",
       " 'fantasy': 108,\n",
       " 'adventure animation': 18,\n",
       " 'animation children': 34,\n",
       " 'children comedy': 47,\n",
       " 'comedy fantasy': 63,\n",
       " 'adventure children': 19,\n",
       " 'children fantasy': 51,\n",
       " 'romance': 160,\n",
       " 'comedy romance': 68,\n",
       " 'drama': 96,\n",
       " 'comedy drama': 62,\n",
       " 'drama romance': 103,\n",
       " 'action': 0,\n",
       " 'crime': 73,\n",
       " 'thriller': 168,\n",
       " 'action crime': 5,\n",
       " 'crime thriller': 84,\n",
       " 'action adventure': 1,\n",
       " 'adventure thriller': 30,\n",
       " 'horror': 128,\n",
       " 'comedy horror': 64,\n",
       " 'adventure romance': 28,\n",
       " 'crime drama': 75,\n",
       " 'action comedy': 4,\n",
       " 'comedy crime': 60,\n",
       " 'drama thriller': 105,\n",
       " 'mystery': 147,\n",
       " 'drama horror': 99,\n",
       " 'horror mystery': 131,\n",
       " 'mystery thriller': 151,\n",
       " 'sci': 166,\n",
       " 'fi': 119,\n",
       " 'drama sci': 104,\n",
       " 'sci fi': 167,\n",
       " 'children drama': 50,\n",
       " 'adventure drama': 23,\n",
       " 'drama fantasy': 97,\n",
       " 'fantasy mystery': 113,\n",
       " 'mystery sci': 150,\n",
       " 'fi thriller': 121,\n",
       " 'war': 172,\n",
       " 'drama war': 106,\n",
       " 'adventure fantasy': 24,\n",
       " 'musical': 139,\n",
       " 'drama musical': 101,\n",
       " 'musical romance': 142,\n",
       " 'crime mystery': 81,\n",
       " 'action sci': 13,\n",
       " 'horror thriller': 134,\n",
       " 'documentary': 86,\n",
       " 'action thriller': 14,\n",
       " 'horror romance': 132,\n",
       " 'adventure comedy': 20,\n",
       " 'crime romance': 82,\n",
       " 'comedy musical': 66,\n",
       " 'action drama': 7,\n",
       " 'drama mystery': 102,\n",
       " 'mystery romance': 149,\n",
       " 'imax': 137,\n",
       " 'drama imax': 100,\n",
       " 'romance war': 164,\n",
       " 'comedy war': 71,\n",
       " 'adventure mystery': 27,\n",
       " 'thriller war': 170,\n",
       " 'western': 175,\n",
       " 'action romance': 12,\n",
       " 'romance western': 165,\n",
       " 'film': 124,\n",
       " 'noir': 154,\n",
       " 'crime film': 77,\n",
       " 'film noir': 125,\n",
       " 'noir mystery': 156,\n",
       " 'adventure crime': 21,\n",
       " 'crime sci': 83,\n",
       " 'action children': 3,\n",
       " 'fantasy horror': 110,\n",
       " 'horror sci': 133,\n",
       " 'adventure sci': 29,\n",
       " 'comedy sci': 69,\n",
       " 'fantasy romance': 114,\n",
       " 'war western': 174,\n",
       " 'thriller western': 171,\n",
       " 'noir thriller': 159,\n",
       " 'crime horror': 78,\n",
       " 'drama film': 98,\n",
       " 'noir romance': 157,\n",
       " 'crime fantasy': 76,\n",
       " 'fantasy thriller': 116,\n",
       " 'children romance': 56,\n",
       " 'musical imax': 140,\n",
       " 'comedy western': 72,\n",
       " 'romance thriller': 163,\n",
       " 'action fantasy': 8,\n",
       " 'comedy thriller': 70,\n",
       " 'drama western': 107,\n",
       " 'comedy mystery': 67,\n",
       " 'fantasy sci': 115,\n",
       " 'action mystery': 11,\n",
       " 'fantasy musical': 112,\n",
       " 'romance imax': 161,\n",
       " 'adventure western': 32,\n",
       " 'animation horror': 41,\n",
       " 'action horror': 9,\n",
       " 'romance sci': 162,\n",
       " 'mystery western': 153,\n",
       " 'animation comedy': 35,\n",
       " 'animation sci': 45,\n",
       " 'musical thriller': 144,\n",
       " 'children musical': 54,\n",
       " 'documentary drama': 87,\n",
       " 'documentary musical': 91,\n",
       " 'adventure horror': 26,\n",
       " 'musical war': 145,\n",
       " 'action western': 16,\n",
       " 'fantasy film': 109,\n",
       " 'adventure film': 25,\n",
       " 'noir sci': 158,\n",
       " 'documentary imax': 90,\n",
       " 'comedy documentary': 61,\n",
       " 'fantasy war': 117,\n",
       " 'fi western': 123,\n",
       " 'children sci': 57,\n",
       " 'action animation': 2,\n",
       " 'children crime': 48,\n",
       " 'fantasy western': 118,\n",
       " 'musical western': 146,\n",
       " 'fi war': 122,\n",
       " 'horror western': 136,\n",
       " 'animation musical': 42,\n",
       " 'action war': 15,\n",
       " 'horror musical': 130,\n",
       " 'musical sci': 143,\n",
       " 'animation drama': 38,\n",
       " 'animation fantasy': 39,\n",
       " 'noir horror': 155,\n",
       " 'adventure war': 31,\n",
       " 'adventure documentary': 22,\n",
       " 'fi imax': 120,\n",
       " 'musical mystery': 141,\n",
       " 'crime musical': 80,\n",
       " 'documentary war': 94,\n",
       " 'children horror': 52,\n",
       " 'children western': 58,\n",
       " 'documentary horror': 89,\n",
       " 'thriller imax': 169,\n",
       " 'crime documentary': 74,\n",
       " 'fantasy imax': 111,\n",
       " 'horror war': 135,\n",
       " 'animation crime': 36,\n",
       " 'action documentary': 6,\n",
       " 'animation documentary': 37,\n",
       " 'children documentary': 49,\n",
       " 'crime imax': 79,\n",
       " 'crime western': 85,\n",
       " 'animation film': 40,\n",
       " 'documentary romance': 93,\n",
       " 'comedy imax': 65,\n",
       " 'war imax': 173,\n",
       " 'animation mystery': 43,\n",
       " 'documentary mystery': 92,\n",
       " 'horror imax': 129,\n",
       " 'documentary western': 95,\n",
       " 'western imax': 176,\n",
       " 'mystery war': 152,\n",
       " 'mystery imax': 148,\n",
       " 'documentary fantasy': 88,\n",
       " 'action imax': 10,\n",
       " 'animation romance': 44,\n",
       " 'children imax': 53,\n",
       " 'genres': 126,\n",
       " 'listed': 138,\n",
       " 'genres listed': 127,\n",
       " 'children mystery': 55}"
      ]
     },
     "execution_count": 20,
     "metadata": {},
     "output_type": "execute_result"
    }
   ],
   "source": [
    "tf.vocabulary_"
   ]
  },
  {
   "cell_type": "code",
   "execution_count": 52,
   "metadata": {},
   "outputs": [
    {
     "data": {
      "text/plain": [
       "array([[1.        , 0.31377615, 0.06109245, 0.05269267],\n",
       "       [0.31377615, 1.        , 0.        , 0.        ],\n",
       "       [0.06109245, 0.        , 1.        , 0.35183255],\n",
       "       [0.05269267, 0.        , 0.35183255, 1.        ]])"
      ]
     },
     "execution_count": 52,
     "metadata": {},
     "output_type": "execute_result"
    }
   ],
   "source": [
    "# Get the cosine similarities\n",
    "from sklearn.metrics.pairwise import cosine_similarity\n",
    "\n",
    "cosine_sim = cosine_similarity(tfidf_matrix)\n",
    "cosine_sim[:4, :4]"
   ]
  },
  {
   "cell_type": "code",
   "execution_count": 53,
   "metadata": {},
   "outputs": [],
   "source": [
    "# Build a 1-dimensional array with movie titles\n",
    "titles = movies['title']\n",
    "indices = pd.Series(movies.index, index=movies['title'])\n",
    "\n",
    "# Function that get movie recommendations based on the cosine similarity score of movie genres\n",
    "def genre_recommendations(title):\n",
    "    idx = indices[title]\n",
    "    sim_scores = list(enumerate(cosine_sim[idx]))\n",
    "    sim_scores = sorted(sim_scores, key=lambda x: x[1], reverse=True)\n",
    "    sim_scores = sim_scores[1:21]\n",
    "    movie_indices = [i[0] for i in sim_scores]\n",
    "    return titles.iloc[movie_indices]"
   ]
  },
  {
   "cell_type": "code",
   "execution_count": 54,
   "metadata": {},
   "outputs": [],
   "source": [
    "movies_indexed = movies.set_index('title')"
   ]
  },
  {
   "cell_type": "code",
   "execution_count": 55,
   "metadata": {},
   "outputs": [
    {
     "data": {
      "text/html": [
       "<div>\n",
       "<style scoped>\n",
       "    .dataframe tbody tr th:only-of-type {\n",
       "        vertical-align: middle;\n",
       "    }\n",
       "\n",
       "    .dataframe tbody tr th {\n",
       "        vertical-align: top;\n",
       "    }\n",
       "\n",
       "    .dataframe thead th {\n",
       "        text-align: right;\n",
       "    }\n",
       "</style>\n",
       "<table border=\"1\" class=\"dataframe\">\n",
       "  <thead>\n",
       "    <tr style=\"text-align: right;\">\n",
       "      <th></th>\n",
       "      <th>movieId</th>\n",
       "      <th>genres</th>\n",
       "    </tr>\n",
       "    <tr>\n",
       "      <th>title</th>\n",
       "      <th></th>\n",
       "      <th></th>\n",
       "    </tr>\n",
       "  </thead>\n",
       "  <tbody>\n",
       "    <tr>\n",
       "      <td>Leaving Las Vegas (1995)</td>\n",
       "      <td>25</td>\n",
       "      <td>Drama Romance</td>\n",
       "    </tr>\n",
       "    <tr>\n",
       "      <td>Persuasion (1995)</td>\n",
       "      <td>28</td>\n",
       "      <td>Drama Romance</td>\n",
       "    </tr>\n",
       "    <tr>\n",
       "      <td>How to Make an American Quilt (1995)</td>\n",
       "      <td>46</td>\n",
       "      <td>Drama Romance</td>\n",
       "    </tr>\n",
       "    <tr>\n",
       "      <td>When Night Is Falling (1995)</td>\n",
       "      <td>49</td>\n",
       "      <td>Drama Romance</td>\n",
       "    </tr>\n",
       "    <tr>\n",
       "      <td>Bed of Roses (1996)</td>\n",
       "      <td>74</td>\n",
       "      <td>Drama Romance</td>\n",
       "    </tr>\n",
       "  </tbody>\n",
       "</table>\n",
       "</div>"
      ],
      "text/plain": [
       "                                      movieId         genres\n",
       "title                                                       \n",
       "Leaving Las Vegas (1995)                   25  Drama Romance\n",
       "Persuasion (1995)                          28  Drama Romance\n",
       "How to Make an American Quilt (1995)       46  Drama Romance\n",
       "When Night Is Falling (1995)               49  Drama Romance\n",
       "Bed of Roses (1996)                        74  Drama Romance"
      ]
     },
     "execution_count": 55,
     "metadata": {},
     "output_type": "execute_result"
    }
   ],
   "source": [
    "movies_indexed.loc[genre_recommendations('Good Will Hunting (1997)').head(5)]"
   ]
  },
  {
   "cell_type": "code",
   "execution_count": 56,
   "metadata": {},
   "outputs": [
    {
     "data": {
      "text/html": [
       "<div>\n",
       "<style scoped>\n",
       "    .dataframe tbody tr th:only-of-type {\n",
       "        vertical-align: middle;\n",
       "    }\n",
       "\n",
       "    .dataframe tbody tr th {\n",
       "        vertical-align: top;\n",
       "    }\n",
       "\n",
       "    .dataframe thead th {\n",
       "        text-align: right;\n",
       "    }\n",
       "</style>\n",
       "<table border=\"1\" class=\"dataframe\">\n",
       "  <thead>\n",
       "    <tr style=\"text-align: right;\">\n",
       "      <th></th>\n",
       "      <th>movieId</th>\n",
       "      <th>genres</th>\n",
       "    </tr>\n",
       "    <tr>\n",
       "      <th>title</th>\n",
       "      <th></th>\n",
       "      <th></th>\n",
       "    </tr>\n",
       "  </thead>\n",
       "  <tbody>\n",
       "    <tr>\n",
       "      <td>Screamers (1995)</td>\n",
       "      <td>76</td>\n",
       "      <td>Action Sci-Fi Thriller</td>\n",
       "    </tr>\n",
       "    <tr>\n",
       "      <td>Johnny Mnemonic (1995)</td>\n",
       "      <td>172</td>\n",
       "      <td>Action Sci-Fi Thriller</td>\n",
       "    </tr>\n",
       "    <tr>\n",
       "      <td>Virtuosity (1995)</td>\n",
       "      <td>338</td>\n",
       "      <td>Action Sci-Fi Thriller</td>\n",
       "    </tr>\n",
       "    <tr>\n",
       "      <td>Timecop (1994)</td>\n",
       "      <td>379</td>\n",
       "      <td>Action Sci-Fi Thriller</td>\n",
       "    </tr>\n",
       "    <tr>\n",
       "      <td>Blade Runner (1982)</td>\n",
       "      <td>541</td>\n",
       "      <td>Action Sci-Fi Thriller</td>\n",
       "    </tr>\n",
       "  </tbody>\n",
       "</table>\n",
       "</div>"
      ],
      "text/plain": [
       "                        movieId                  genres\n",
       "title                                                  \n",
       "Screamers (1995)             76  Action Sci-Fi Thriller\n",
       "Johnny Mnemonic (1995)      172  Action Sci-Fi Thriller\n",
       "Virtuosity (1995)           338  Action Sci-Fi Thriller\n",
       "Timecop (1994)              379  Action Sci-Fi Thriller\n",
       "Blade Runner (1982)         541  Action Sci-Fi Thriller"
      ]
     },
     "execution_count": 56,
     "metadata": {},
     "output_type": "execute_result"
    }
   ],
   "source": [
    "movies_indexed.loc[genre_recommendations('Terminator, The (1984)').head(5)]"
   ]
  },
  {
   "cell_type": "code",
   "execution_count": 57,
   "metadata": {},
   "outputs": [],
   "source": [
    "# Ok so let's try to evaluate this. How do we evaluate?\n",
    "# Well, we have list of users ratings actually so we can just compare what is being recommended to \n",
    "# what user actually liked. We'll find a match based on that"
   ]
  },
  {
   "cell_type": "code",
   "execution_count": 58,
   "metadata": {},
   "outputs": [
    {
     "data": {
      "text/html": [
       "<div>\n",
       "<style scoped>\n",
       "    .dataframe tbody tr th:only-of-type {\n",
       "        vertical-align: middle;\n",
       "    }\n",
       "\n",
       "    .dataframe tbody tr th {\n",
       "        vertical-align: top;\n",
       "    }\n",
       "\n",
       "    .dataframe thead th {\n",
       "        text-align: right;\n",
       "    }\n",
       "</style>\n",
       "<table border=\"1\" class=\"dataframe\">\n",
       "  <thead>\n",
       "    <tr style=\"text-align: right;\">\n",
       "      <th></th>\n",
       "      <th>userId</th>\n",
       "      <th>movieId</th>\n",
       "      <th>rating</th>\n",
       "    </tr>\n",
       "  </thead>\n",
       "  <tbody>\n",
       "    <tr>\n",
       "      <td>0</td>\n",
       "      <td>1</td>\n",
       "      <td>1</td>\n",
       "      <td>4.0</td>\n",
       "    </tr>\n",
       "    <tr>\n",
       "      <td>1</td>\n",
       "      <td>1</td>\n",
       "      <td>3</td>\n",
       "      <td>4.0</td>\n",
       "    </tr>\n",
       "    <tr>\n",
       "      <td>2</td>\n",
       "      <td>1</td>\n",
       "      <td>6</td>\n",
       "      <td>4.0</td>\n",
       "    </tr>\n",
       "    <tr>\n",
       "      <td>3</td>\n",
       "      <td>1</td>\n",
       "      <td>47</td>\n",
       "      <td>5.0</td>\n",
       "    </tr>\n",
       "    <tr>\n",
       "      <td>4</td>\n",
       "      <td>1</td>\n",
       "      <td>50</td>\n",
       "      <td>5.0</td>\n",
       "    </tr>\n",
       "  </tbody>\n",
       "</table>\n",
       "</div>"
      ],
      "text/plain": [
       "   userId  movieId  rating\n",
       "0       1        1     4.0\n",
       "1       1        3     4.0\n",
       "2       1        6     4.0\n",
       "3       1       47     5.0\n",
       "4       1       50     5.0"
      ]
     },
     "execution_count": 58,
     "metadata": {},
     "output_type": "execute_result"
    }
   ],
   "source": [
    "ratings.head(5)"
   ]
  },
  {
   "cell_type": "code",
   "execution_count": 59,
   "metadata": {},
   "outputs": [],
   "source": [
    "# Since we actually can't get the rating, we can only make assumptions about whether user LIKED or DISLIKED\n",
    "# certain movie. For sake of ease, I'll treat ratings 3, 4 and 5 as LIKE, and 1 and 2 as DISLIKE"
   ]
  },
  {
   "cell_type": "code",
   "execution_count": null,
   "metadata": {},
   "outputs": [],
   "source": []
  },
  {
   "cell_type": "code",
   "execution_count": 60,
   "metadata": {},
   "outputs": [
    {
     "data": {
      "text/html": [
       "<div>\n",
       "<style scoped>\n",
       "    .dataframe tbody tr th:only-of-type {\n",
       "        vertical-align: middle;\n",
       "    }\n",
       "\n",
       "    .dataframe tbody tr th {\n",
       "        vertical-align: top;\n",
       "    }\n",
       "\n",
       "    .dataframe thead th {\n",
       "        text-align: right;\n",
       "    }\n",
       "</style>\n",
       "<table border=\"1\" class=\"dataframe\">\n",
       "  <thead>\n",
       "    <tr style=\"text-align: right;\">\n",
       "      <th></th>\n",
       "      <th>userId</th>\n",
       "      <th>movieId</th>\n",
       "      <th>rating</th>\n",
       "      <th>like</th>\n",
       "    </tr>\n",
       "  </thead>\n",
       "  <tbody>\n",
       "    <tr>\n",
       "      <td>0</td>\n",
       "      <td>1</td>\n",
       "      <td>1</td>\n",
       "      <td>4.0</td>\n",
       "      <td>1</td>\n",
       "    </tr>\n",
       "    <tr>\n",
       "      <td>1</td>\n",
       "      <td>1</td>\n",
       "      <td>3</td>\n",
       "      <td>4.0</td>\n",
       "      <td>1</td>\n",
       "    </tr>\n",
       "    <tr>\n",
       "      <td>2</td>\n",
       "      <td>1</td>\n",
       "      <td>6</td>\n",
       "      <td>4.0</td>\n",
       "      <td>1</td>\n",
       "    </tr>\n",
       "    <tr>\n",
       "      <td>3</td>\n",
       "      <td>1</td>\n",
       "      <td>47</td>\n",
       "      <td>5.0</td>\n",
       "      <td>1</td>\n",
       "    </tr>\n",
       "    <tr>\n",
       "      <td>4</td>\n",
       "      <td>1</td>\n",
       "      <td>50</td>\n",
       "      <td>5.0</td>\n",
       "      <td>1</td>\n",
       "    </tr>\n",
       "    <tr>\n",
       "      <td>...</td>\n",
       "      <td>...</td>\n",
       "      <td>...</td>\n",
       "      <td>...</td>\n",
       "      <td>...</td>\n",
       "    </tr>\n",
       "    <tr>\n",
       "      <td>100831</td>\n",
       "      <td>610</td>\n",
       "      <td>166534</td>\n",
       "      <td>4.0</td>\n",
       "      <td>1</td>\n",
       "    </tr>\n",
       "    <tr>\n",
       "      <td>100832</td>\n",
       "      <td>610</td>\n",
       "      <td>168248</td>\n",
       "      <td>5.0</td>\n",
       "      <td>1</td>\n",
       "    </tr>\n",
       "    <tr>\n",
       "      <td>100833</td>\n",
       "      <td>610</td>\n",
       "      <td>168250</td>\n",
       "      <td>5.0</td>\n",
       "      <td>1</td>\n",
       "    </tr>\n",
       "    <tr>\n",
       "      <td>100834</td>\n",
       "      <td>610</td>\n",
       "      <td>168252</td>\n",
       "      <td>5.0</td>\n",
       "      <td>1</td>\n",
       "    </tr>\n",
       "    <tr>\n",
       "      <td>100835</td>\n",
       "      <td>610</td>\n",
       "      <td>170875</td>\n",
       "      <td>3.0</td>\n",
       "      <td>1</td>\n",
       "    </tr>\n",
       "  </tbody>\n",
       "</table>\n",
       "<p>100836 rows × 4 columns</p>\n",
       "</div>"
      ],
      "text/plain": [
       "        userId  movieId  rating  like\n",
       "0            1        1     4.0     1\n",
       "1            1        3     4.0     1\n",
       "2            1        6     4.0     1\n",
       "3            1       47     5.0     1\n",
       "4            1       50     5.0     1\n",
       "...        ...      ...     ...   ...\n",
       "100831     610   166534     4.0     1\n",
       "100832     610   168248     5.0     1\n",
       "100833     610   168250     5.0     1\n",
       "100834     610   168252     5.0     1\n",
       "100835     610   170875     3.0     1\n",
       "\n",
       "[100836 rows x 4 columns]"
      ]
     },
     "execution_count": 60,
     "metadata": {},
     "output_type": "execute_result"
    }
   ],
   "source": [
    "ratings['like'] = ratings['rating'].apply(lambda x: 1 if x >= 3 else 0)\n",
    "ratings"
   ]
  },
  {
   "cell_type": "code",
   "execution_count": 61,
   "metadata": {},
   "outputs": [],
   "source": [
    "# Ok, now that we have our LIKES or DISLIKES, let's take a fraction of our ratings, and try to evaluate"
   ]
  },
  {
   "cell_type": "code",
   "execution_count": 62,
   "metadata": {},
   "outputs": [
    {
     "data": {
      "text/plain": [
       "(20167, 4)"
      ]
     },
     "execution_count": 62,
     "metadata": {},
     "output_type": "execute_result"
    }
   ],
   "source": [
    "small_data = ratings.sample(frac=0.2)\n",
    "small_data.shape"
   ]
  },
  {
   "cell_type": "code",
   "execution_count": 63,
   "metadata": {},
   "outputs": [],
   "source": [
    "from sklearn.model_selection import train_test_split\n",
    "\n",
    "train_data, test_data = train_test_split(small_data, test_size=0.4)"
   ]
  },
  {
   "cell_type": "code",
   "execution_count": 64,
   "metadata": {},
   "outputs": [
    {
     "name": "stdout",
     "output_type": "stream",
     "text": [
      "Train data shape: (12100, 4), test data shape: (8067, 4)\n"
     ]
    }
   ],
   "source": [
    "print(\"Train data shape: {}, test data shape: {}\".format(train_data.shape, test_data.shape))"
   ]
  },
  {
   "cell_type": "code",
   "execution_count": 65,
   "metadata": {},
   "outputs": [],
   "source": [
    "def get_movie_id(title):\n",
    "    '''Returns movie ID given the movie title'''\n",
    "    return movies[movies['title'] == title]['movieId'].values[0]\n",
    "\n",
    "def get_movie_title(id):\n",
    "    '''Returns movie title given the movie ID'''\n",
    "    return movies[movies['movieId'] == movie_id]['title'].values[0]"
   ]
  },
  {
   "cell_type": "code",
   "execution_count": 205,
   "metadata": {},
   "outputs": [
    {
     "name": "stdout",
     "output_type": "stream",
     "text": [
      "547 µs ± 8.29 µs per loop (mean ± std. dev. of 7 runs, 1000 loops each)\n"
     ]
    }
   ],
   "source": [
    "timeit get_movie_title(24)"
   ]
  },
  {
   "cell_type": "code",
   "execution_count": 206,
   "metadata": {},
   "outputs": [
    {
     "data": {
      "text/plain": [
       "(12100, 4)"
      ]
     },
     "execution_count": 206,
     "metadata": {},
     "output_type": "execute_result"
    }
   ],
   "source": [
    "train_data.shape"
   ]
  },
  {
   "cell_type": "code",
   "execution_count": 204,
   "metadata": {},
   "outputs": [
    {
     "name": "stdout",
     "output_type": "stream",
     "text": [
      "4.37 ms ± 143 µs per loop (mean ± std. dev. of 7 runs, 100 loops each)\n"
     ]
    }
   ],
   "source": [
    "timeit genre_recommendations(\"Leaving Las Vegas (1995)\")"
   ]
  },
  {
   "cell_type": "code",
   "execution_count": 226,
   "metadata": {},
   "outputs": [],
   "source": [
    "predicted_values = []\n",
    "actual_values = []"
   ]
  },
  {
   "cell_type": "code",
   "execution_count": 211,
   "metadata": {},
   "outputs": [
    {
     "data": {
      "text/html": [
       "<div>\n",
       "<style scoped>\n",
       "    .dataframe tbody tr th:only-of-type {\n",
       "        vertical-align: middle;\n",
       "    }\n",
       "\n",
       "    .dataframe tbody tr th {\n",
       "        vertical-align: top;\n",
       "    }\n",
       "\n",
       "    .dataframe thead th {\n",
       "        text-align: right;\n",
       "    }\n",
       "</style>\n",
       "<table border=\"1\" class=\"dataframe\">\n",
       "  <thead>\n",
       "    <tr style=\"text-align: right;\">\n",
       "      <th></th>\n",
       "      <th>userId</th>\n",
       "      <th>movieId</th>\n",
       "      <th>rating</th>\n",
       "      <th>like</th>\n",
       "    </tr>\n",
       "  </thead>\n",
       "  <tbody>\n",
       "    <tr>\n",
       "      <td>2565</td>\n",
       "      <td>19</td>\n",
       "      <td>1593</td>\n",
       "      <td>2.0</td>\n",
       "      <td>0</td>\n",
       "    </tr>\n",
       "    <tr>\n",
       "      <td>19463</td>\n",
       "      <td>125</td>\n",
       "      <td>100083</td>\n",
       "      <td>5.0</td>\n",
       "      <td>1</td>\n",
       "    </tr>\n",
       "    <tr>\n",
       "      <td>39710</td>\n",
       "      <td>274</td>\n",
       "      <td>2871</td>\n",
       "      <td>3.5</td>\n",
       "      <td>1</td>\n",
       "    </tr>\n",
       "    <tr>\n",
       "      <td>35012</td>\n",
       "      <td>234</td>\n",
       "      <td>2002</td>\n",
       "      <td>3.0</td>\n",
       "      <td>1</td>\n",
       "    </tr>\n",
       "    <tr>\n",
       "      <td>62176</td>\n",
       "      <td>412</td>\n",
       "      <td>1269</td>\n",
       "      <td>5.0</td>\n",
       "      <td>1</td>\n",
       "    </tr>\n",
       "    <tr>\n",
       "      <td>...</td>\n",
       "      <td>...</td>\n",
       "      <td>...</td>\n",
       "      <td>...</td>\n",
       "      <td>...</td>\n",
       "    </tr>\n",
       "    <tr>\n",
       "      <td>53108</td>\n",
       "      <td>351</td>\n",
       "      <td>6016</td>\n",
       "      <td>4.0</td>\n",
       "      <td>1</td>\n",
       "    </tr>\n",
       "    <tr>\n",
       "      <td>63673</td>\n",
       "      <td>414</td>\n",
       "      <td>4333</td>\n",
       "      <td>4.0</td>\n",
       "      <td>1</td>\n",
       "    </tr>\n",
       "    <tr>\n",
       "      <td>55998</td>\n",
       "      <td>370</td>\n",
       "      <td>223</td>\n",
       "      <td>4.5</td>\n",
       "      <td>1</td>\n",
       "    </tr>\n",
       "    <tr>\n",
       "      <td>5739</td>\n",
       "      <td>41</td>\n",
       "      <td>4816</td>\n",
       "      <td>5.0</td>\n",
       "      <td>1</td>\n",
       "    </tr>\n",
       "    <tr>\n",
       "      <td>67777</td>\n",
       "      <td>438</td>\n",
       "      <td>2549</td>\n",
       "      <td>3.0</td>\n",
       "      <td>1</td>\n",
       "    </tr>\n",
       "  </tbody>\n",
       "</table>\n",
       "<p>12100 rows × 4 columns</p>\n",
       "</div>"
      ],
      "text/plain": [
       "       userId  movieId  rating  like\n",
       "2565       19     1593     2.0     0\n",
       "19463     125   100083     5.0     1\n",
       "39710     274     2871     3.5     1\n",
       "35012     234     2002     3.0     1\n",
       "62176     412     1269     5.0     1\n",
       "...       ...      ...     ...   ...\n",
       "53108     351     6016     4.0     1\n",
       "63673     414     4333     4.0     1\n",
       "55998     370      223     4.5     1\n",
       "5739       41     4816     5.0     1\n",
       "67777     438     2549     3.0     1\n",
       "\n",
       "[12100 rows x 4 columns]"
      ]
     },
     "execution_count": 211,
     "metadata": {},
     "output_type": "execute_result"
    }
   ],
   "source": [
    "train_data"
   ]
  },
  {
   "cell_type": "code",
   "execution_count": 76,
   "metadata": {},
   "outputs": [],
   "source": [
    "predicted_values = []\n",
    "actual_values = []\n",
    "\n",
    "for index, row in train_data[train_data['like'] == 1][:20000].iterrows():\n",
    "    user_id = row['userId']\n",
    "    movie_id = row['movieId']\n",
    "    like = row['like']\n",
    "    \n",
    "    try:\n",
    "        movie_name = get_movie_title(movie_id)\n",
    "    except:\n",
    "        #print(\"Cant get movie name based on movie ID: {}\".format(movie_id))\n",
    "        pass\n",
    "    \n",
    "    #print(\"Predicting for user {} based on the movie he liked {}\".format(user_id, movie_name))\n",
    "\n",
    "    # Predict movies based on this movie\n",
    "    predicted = genre_recommendations(movie_name)\n",
    "    \n",
    "    # Now iterate through first 20 predicted movies and see which one of these match what user has liked\n",
    "    # and which match what user has disliked\n",
    "    \n",
    "#     print(\"\\tPredicted movies: {}\".format(predicted.head(20).str.join(\", \")))\n",
    "    \n",
    "    for predicted_movie in predicted.head(50):\n",
    "        predicted_movie_id = get_movie_id(predicted_movie)\n",
    "        \n",
    "        # Check if user has rated that movie \n",
    "        rating = small_data[(small_data['userId'] == user_id) & (small_data['movieId'] == predicted_movie_id)]['like']\n",
    "        \n",
    "        if len(rating.values) == 0:\n",
    "            # User didn't rate this movie ... skip it\n",
    "            #print(\"\\tUser didn't rate movie {}\".format(predicted_movie))\n",
    "            continue\n",
    "        \n",
    "        #print(\"\\t Predicted movie {} ({}) and actual likeness is {}\".format(predicted_movie, predicted_movie_id, rating.values[0]))\n",
    "        \n",
    "        predicted_values.append(rating.values[0])\n",
    "        \n",
    "        actual_values.append(1)"
   ]
  },
  {
   "cell_type": "code",
   "execution_count": 77,
   "metadata": {},
   "outputs": [
    {
     "data": {
      "text/plain": [
       "7986"
      ]
     },
     "execution_count": 77,
     "metadata": {},
     "output_type": "execute_result"
    }
   ],
   "source": [
    "len(actual_values)"
   ]
  },
  {
   "cell_type": "code",
   "execution_count": 78,
   "metadata": {},
   "outputs": [],
   "source": [
    "from sklearn.metrics import mean_squared_error\n",
    "from sklearn.metrics import accuracy_score"
   ]
  },
  {
   "cell_type": "code",
   "execution_count": 79,
   "metadata": {},
   "outputs": [
    {
     "data": {
      "text/plain": [
       "0.8933132982719759"
      ]
     },
     "execution_count": 79,
     "metadata": {},
     "output_type": "execute_result"
    }
   ],
   "source": [
    "accuracy_score(actual_values, predicted_values)"
   ]
  },
  {
   "cell_type": "code",
   "execution_count": 80,
   "metadata": {},
   "outputs": [],
   "source": [
    "from sklearn.metrics import f1_score"
   ]
  },
  {
   "cell_type": "code",
   "execution_count": 81,
   "metadata": {},
   "outputs": [
    {
     "data": {
      "text/plain": [
       "0.9436507936507936"
      ]
     },
     "execution_count": 81,
     "metadata": {},
     "output_type": "execute_result"
    }
   ],
   "source": [
    "f1_score(actual_values, predicted_values)"
   ]
  },
  {
   "cell_type": "code",
   "execution_count": null,
   "metadata": {},
   "outputs": [],
   "source": []
  }
 ],
 "metadata": {
  "kernelspec": {
   "display_name": "Python 3",
   "language": "python",
   "name": "python3"
  },
  "language_info": {
   "codemirror_mode": {
    "name": "ipython",
    "version": 3
   },
   "file_extension": ".py",
   "mimetype": "text/x-python",
   "name": "python",
   "nbconvert_exporter": "python",
   "pygments_lexer": "ipython3",
   "version": "3.7.3"
  }
 },
 "nbformat": 4,
 "nbformat_minor": 2
}
